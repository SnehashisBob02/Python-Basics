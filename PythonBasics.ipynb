{
  "nbformat": 4,
  "nbformat_minor": 0,
  "metadata": {
    "colab": {
      "provenance": []
    },
    "kernelspec": {
      "name": "python3",
      "display_name": "Python 3"
    },
    "language_info": {
      "name": "python"
    }
  },
  "cells": [
    {
      "cell_type": "code",
      "execution_count": null,
      "metadata": {
        "id": "n0fUgYYnaH3g"
      },
      "outputs": [],
      "source": []
    },
    {
      "cell_type": "markdown",
      "source": [
        "# Python Basics\n"
      ],
      "metadata": {
        "id": "ToOFRmgAaySD"
      }
    },
    {
      "cell_type": "markdown",
      "source": [
        "1. What is Python, and why is it popular?\n",
        "  - Python is a versatile, high-level, general-purpose programming language and it is popular because of it's readability and ease of use ,making it popular for various applications like web development, data science and automation etc.\n",
        "\n",
        "2. What is an interpreter in Python?\n",
        "  - In Python, interpreter is a program that reads and executes python code line by line, translating it into machine-readable instructions for the computer to understand and run.\n",
        "\n",
        "3. What are pre-defined keywords in Python?\n",
        "  - Python keywords are some predefined and reserved words in Python that have special meaning. Keywords are used to define syntax of the coding. The Keywords cannot be used as identifier, function and variable name.\n",
        "\n",
        "4. Can keywords be used as variable name?\n",
        "  - Keywords cannot be used as variable name.\n",
        "\n",
        "5. What is mutability in Python?\n",
        "  - In Python, mutability refers to an object's ability to be changed or modified after it's created.\n",
        "\n",
        "6. Why are lists mutable, but tuples are immutable?\n",
        "  - Lists are mutable because it can be changed but tuples are immutable because it cannot be changed after it's created.\n",
        "\n",
        "7. What is the difference between “==” and “is” operators in Python?\n",
        "  - In Python, \"==\" checks for value equality meaning if two objects have same value or not, while \"is\" checks for object identity meaning if two variable point to the same object in memory.\n",
        "\n",
        "8. What are logical operators in Python?\n",
        "  - In Python, logical operators, also known as Boolean operators, are used to combine or modify conditions and return a boolean value (True or False). The main logical operators are 'and', 'or' and 'not'.\n",
        "\n",
        "9. What is type casting in Python?\n",
        "  - In Python, Type Casting also known as Type Conversion is the process of converting a variable's data type to another, often using built-in functions like int(); float() and str().\n",
        "\n",
        "10. What is the difference between implicit and explicit type casting?\n",
        "  - In Python, Implicit type casting happens automatically by the interpreter, while Explicit type casting requires programmer to use built-in functions like int(),float() or str() to convert data types.\n",
        "\n",
        "11. What is the purpose of conditional statements in Python?\n",
        "  - Condition statements in Python like 'if', 'elif' and 'else' allow programms to execute different blocks of code based on whether a condition is true or false, enabling dynamic and responsive behavior.\n",
        "\n",
        "12. How does the elif statement work?\n",
        "  - The \"elif\" keyword in python stands for \"else if\". It can be used in conditional statements to check for multiple conditions. For example, if the first condition is false, it moves on to the next \"elif\" statement to check if that condition is true.\n",
        "\n",
        "13. What is the difference between for and while loops?\n",
        "  - The primary difference between a 'for' loop and a 'while' loop is that, a 'for' loop is used when the number of iterations is known beforehand, while a 'while' loop is used when the number of iterations depends on a condition that might not be known in advance.\n",
        "\n",
        "14. Describe a scenario where a while loop is more suitable than a for loop.\n",
        "  - You don't know how many lines the file contains, so you need a loop that that keeps reading line by line until there are no more lines to read. In such a case, a \"while\" loop is more appropriate becuase the number of iterations needed isn't known in advance. It depends on the file's content.\n"
      ],
      "metadata": {
        "id": "mCzylh3ObWda"
      }
    },
    {
      "cell_type": "code",
      "source": [
        "#1. Write a Python program to print \"Hello, World!\n",
        "\n",
        "print(\"Hello World\");\n"
      ],
      "metadata": {
        "colab": {
          "base_uri": "https://localhost:8080/"
        },
        "id": "vjKrjZoR5hx1",
        "outputId": "1435edc5-0614-43ac-b514-b3b228243449"
      },
      "execution_count": 1,
      "outputs": [
        {
          "output_type": "stream",
          "name": "stdout",
          "text": [
            "Hello World\n"
          ]
        }
      ]
    },
    {
      "cell_type": "code",
      "source": [
        "#2. Write a Python program that displays your name and age.\n",
        "\n",
        "name = input(\"Enter name: \");\n",
        "age = input(\"Enter age: \");\n",
        "print(\"Hi,my name is \"+name+\", and I am \"+age+\" years old.\");"
      ],
      "metadata": {
        "colab": {
          "base_uri": "https://localhost:8080/"
        },
        "id": "8zDGY_0z57_B",
        "outputId": "c04a7ac4-4a52-4201-f68d-78af11964bd8"
      },
      "execution_count": 2,
      "outputs": [
        {
          "output_type": "stream",
          "name": "stdout",
          "text": [
            "Enter name: Snehashis Das\n",
            "Enter age: 26\n",
            "Hi,my name is Snehashis Das, and I am 26 years old.\n"
          ]
        }
      ]
    },
    {
      "cell_type": "code",
      "source": [
        "#3. Write code to print all the pre-defined keywords in Python using the keyword library.\n",
        "\n",
        "import keyword\n",
        "print(keyword.kwlist);"
      ],
      "metadata": {
        "colab": {
          "base_uri": "https://localhost:8080/"
        },
        "id": "NJsjDsFT69TL",
        "outputId": "d434b95a-7f0a-49d3-c0a2-b4103a4fdb8b"
      },
      "execution_count": 3,
      "outputs": [
        {
          "output_type": "stream",
          "name": "stdout",
          "text": [
            "['False', 'None', 'True', 'and', 'as', 'assert', 'async', 'await', 'break', 'class', 'continue', 'def', 'del', 'elif', 'else', 'except', 'finally', 'for', 'from', 'global', 'if', 'import', 'in', 'is', 'lambda', 'nonlocal', 'not', 'or', 'pass', 'raise', 'return', 'try', 'while', 'with', 'yield']\n"
          ]
        }
      ]
    },
    {
      "cell_type": "code",
      "source": [
        "#4. Write a program that checks if a given word is a Python keyword.\n",
        "\n",
        "import keyword\n",
        "s = input('Enter any word')\n",
        "if keyword.iskeyword(s):\n",
        "  print('Your entered word is a Keyword in Python.');\n",
        "else:\n",
        "  print('Your entered word is not a keyword in Python.');"
      ],
      "metadata": {
        "colab": {
          "base_uri": "https://localhost:8080/"
        },
        "id": "OPwZaq_w7bqt",
        "outputId": "a1c0f710-e914-45d6-9cbd-6c231cd47b0a"
      },
      "execution_count": 13,
      "outputs": [
        {
          "output_type": "stream",
          "name": "stdout",
          "text": [
            "Enter any wordassert\n",
            "Your entered word is a Keyword in Python.\n"
          ]
        }
      ]
    },
    {
      "cell_type": "code",
      "source": [
        "#5. Create a list and tuple in Python, and demonstrate how attempting to change an element works differently for each.\n",
        "\n",
        "my_list = [1, 2, 3, 4, 5]\n",
        "my_tuple = (1, 2, 3, 4, 5)\n",
        "print(\"Original list\",my_list);\n",
        "my_list[2] = 10\n",
        "print(\"Modified list\",my_list);\n",
        "\n",
        "print(\"\\nOriginal Tuple\",my_tuple);\n",
        "try:\n",
        "  my_tuple[2] = 10\n",
        "except TypeError as e:\n",
        "  print(\"Error: \",e);"
      ],
      "metadata": {
        "colab": {
          "base_uri": "https://localhost:8080/"
        },
        "id": "uvT1m2vN-wzW",
        "outputId": "178fef78-fcbc-451d-d36e-31f3402714a8"
      },
      "execution_count": 16,
      "outputs": [
        {
          "output_type": "stream",
          "name": "stdout",
          "text": [
            "Original list [1, 2, 3, 4, 5]\n",
            "Modified list [1, 2, 10, 4, 5]\n",
            "\n",
            "Original Tuple (1, 2, 3, 4, 5)\n",
            "Error:  'tuple' object does not support item assignment\n"
          ]
        }
      ]
    },
    {
      "cell_type": "code",
      "source": [
        "#6. Write a function to demonstrate the behavior of mutable and immutable arguments.\n",
        "\n",
        "def demonstrate_mutability(immutable_arg, mutable_arg):\n",
        "    print(f\"Original immutable argument: {immutable_arg}\")\n",
        "    immutable_arg += 10\n",
        "    print(f\"Modified immutable argument inside function: {immutable_arg}\")\n",
        "\n",
        "    print(f\"Original mutable argument: {mutable_arg}\")\n",
        "    mutable_arg.append(100)\n",
        "    print(f\"Modified mutable argument inside function: {mutable_arg}\")\n",
        "\n",
        "immutable_value = 5\n",
        "mutable_value = [1, 2, 3]\n",
        "\n",
        "demonstrate_mutability(immutable_value, mutable_value)\n",
        "\n",
        "print(f\"\\nImmutable value outside function: {immutable_value}\")\n",
        "print(f\"Mutable value outside function: {mutable_value}\")\n"
      ],
      "metadata": {
        "colab": {
          "base_uri": "https://localhost:8080/"
        },
        "id": "S-PCBceH-wHf",
        "outputId": "b72bbd8a-081e-4308-f985-7d4cb26ab540"
      },
      "execution_count": 23,
      "outputs": [
        {
          "output_type": "stream",
          "name": "stdout",
          "text": [
            "Original immutable argument: 5\n",
            "Modified immutable argument inside function: 15\n",
            "Original mutable argument: [1, 2, 3]\n",
            "Modified mutable argument inside function: [1, 2, 3, 100]\n",
            "\n",
            "Immutable value outside function: 5\n",
            "Mutable value outside function: [1, 2, 3, 100]\n"
          ]
        }
      ]
    },
    {
      "cell_type": "code",
      "source": [
        "#7. Write a function to demonstrate the behavior of mutable and immutable arguments.\n",
        "\n",
        "def demonstrate_mutability(immutable_arg, mutable_arg):\n",
        "\n",
        "    print(f\"Original immutable argument: {immutable_arg}\")\n",
        "    immutable_arg += 10\n",
        "    print(f\"Modified immutable argument inside function: {immutable_arg}\")\n",
        "\n",
        "    print(f\"Original mutable argument: {mutable_arg}\")\n",
        "    mutable_arg.append(100)\n",
        "    print(f\"Modified mutable argument inside function: {mutable_arg}\")\n",
        "\n",
        "immutable_value = 5\n",
        "mutable_value = [1, 2, 3]\n",
        "\n",
        "demonstrate_mutability(immutable_value, mutable_value)\n",
        "\n",
        "print(f\"\\nImmutable value outside function: {immutable_value}\")\n",
        "print(f\"Mutable value outside function: {mutable_value}\")\n"
      ],
      "metadata": {
        "colab": {
          "base_uri": "https://localhost:8080/"
        },
        "id": "xzaO3wWVFIfu",
        "outputId": "499bf546-cc2e-471f-fb55-3b0c7f5fad79"
      },
      "execution_count": 22,
      "outputs": [
        {
          "output_type": "stream",
          "name": "stdout",
          "text": [
            "Original immutable argument: 5\n",
            "Modified immutable argument inside function: 15\n",
            "Original mutable argument: [1, 2, 3]\n",
            "Modified mutable argument inside function: [1, 2, 3, 100]\n",
            "\n",
            "Immutable value outside function: 5\n",
            "Mutable value outside function: [1, 2, 3, 100]\n"
          ]
        }
      ]
    },
    {
      "cell_type": "code",
      "source": [
        "#8. Write a program to demonstrate the use of logical operators.\n",
        "\n",
        "def demonstrate_logical_operators(a, b):\n",
        "    print(f\"Given a = {a}, b = {b}\")\n",
        "\n",
        "    if a > 0 and b > 0:\n",
        "        print(f\"Both a and b are positive: {a > 0 and b > 0}\")\n",
        "    else:\n",
        "        print(f\"Both a and b are not positive: {a > 0 and b > 0}\")\n",
        "\n",
        "    if a > 0 or b > 0:\n",
        "        print(f\"At least one of a or b is positive: {a > 0 or b > 0}\")\n",
        "    else:\n",
        "        print(f\"Neither a nor b is positive: {a > 0 or b > 0}\")\n",
        "\n",
        "    print(f\"Is it true that a is not positive? {not a > 0}\")\n",
        "    print(f\"Is it true that b is not positive? {not b > 0}\")\n",
        "\n",
        "a = 5\n",
        "b = -3\n",
        "demonstrate_logical_operators(a, b)"
      ],
      "metadata": {
        "colab": {
          "base_uri": "https://localhost:8080/"
        },
        "id": "aMX6jixyGAlv",
        "outputId": "f0177183-0b60-48fc-fab4-26d9da3abe34"
      },
      "execution_count": 24,
      "outputs": [
        {
          "output_type": "stream",
          "name": "stdout",
          "text": [
            "Given a = 5, b = -3\n",
            "Both a and b are not positive: False\n",
            "At least one of a or b is positive: True\n",
            "Is it true that a is not positive? False\n",
            "Is it true that b is not positive? True\n"
          ]
        }
      ]
    },
    {
      "cell_type": "code",
      "source": [
        "#9. Write a Python program to convert user input from string to integer, float, and boolean types.\n",
        "\n",
        "def convert_input():\n",
        "\n",
        "    user_input = input(\"Enter a value: \")\n",
        "\n",
        "    try:\n",
        "        int_value = int(user_input)\n",
        "        print(f\"Converted to integer: {int_value}\")\n",
        "    except ValueError:\n",
        "        print(\"Input cannot be converted to an integer.\")\n",
        "\n",
        "    try:\n",
        "        float_value = float(user_input)\n",
        "        print(f\"Converted to float: {float_value}\")\n",
        "    except ValueError:\n",
        "        print(\"Input cannot be converted to a float.\")\n",
        "\n",
        "    bool_value = bool(user_input)\n",
        "    print(f\"Converted to boolean: {bool_value}\")\n",
        "\n",
        "convert_input()\n"
      ],
      "metadata": {
        "colab": {
          "base_uri": "https://localhost:8080/"
        },
        "id": "X0Do6KqyHuEy",
        "outputId": "1c874ef2-8211-462b-a395-3c1a1899a4fe"
      },
      "execution_count": 25,
      "outputs": [
        {
          "output_type": "stream",
          "name": "stdout",
          "text": [
            "Enter a value: 50\n",
            "Converted to integer: 50\n",
            "Converted to float: 50.0\n",
            "Converted to boolean: True\n"
          ]
        }
      ]
    },
    {
      "cell_type": "code",
      "source": [
        "#10. Write code to demonstrate type casting with list elements.\n",
        "\n",
        "mixed_list = [1, '2', 3.5, '4.0', True, '5.6']\n",
        "\n",
        "print(\"Original mixed list:\", mixed_list);\n",
        "\n",
        "int_casted = [int(x) for x in mixed_list if isinstance(x, str) and x.isdigit()]\n",
        "\n",
        "float_casted = [float(x) for x in mixed_list if isinstance(x, str) and x.replace('.', '', 1).isdigit()]\n",
        "\n",
        "bool_casted = [int(x) for x in mixed_list if isinstance(x, bool)]\n",
        "\n",
        "print(\"Integers from strings in mixed list:\", int_casted);\n",
        "print(\"Floats from strings in mixed list:\", float_casted);\n",
        "print(\"Boolean values casted to integers:\", bool_casted);"
      ],
      "metadata": {
        "colab": {
          "base_uri": "https://localhost:8080/"
        },
        "id": "ucAGoSkqJo6a",
        "outputId": "9086a84a-9e91-4626-9a29-b96707bd7796"
      },
      "execution_count": 27,
      "outputs": [
        {
          "output_type": "stream",
          "name": "stdout",
          "text": [
            "Original mixed list: [1, '2', 3.5, '4.0', True, '5.6']\n",
            "Integers from strings in mixed list: [2]\n",
            "Floats from strings in mixed list: [2.0, 4.0, 5.6]\n",
            "Boolean values casted to integers: [1]\n"
          ]
        }
      ]
    },
    {
      "cell_type": "code",
      "source": [
        "#11. Write a program that checks if a number is positive, negative, or zero.\n",
        "\n",
        "def check_number(num):\n",
        "    if num > 0:\n",
        "        return \"The number is positive.\"\n",
        "    elif num < 0:\n",
        "        return \"The number is negative.\"\n",
        "    else:\n",
        "        return \"The number is zero.\"\n",
        "\n",
        "try:\n",
        "    user_input = float(input(\"Enter a number: \"))\n",
        "    result = check_number(user_input)\n",
        "    print(result);\n",
        "except ValueError:\n",
        "    print(\"Invalid input! Please enter a valid number.\");"
      ],
      "metadata": {
        "colab": {
          "base_uri": "https://localhost:8080/"
        },
        "id": "MRsoXB8oKLmz",
        "outputId": "60959873-f09f-4f57-e69a-090b99bdefab"
      },
      "execution_count": 36,
      "outputs": [
        {
          "output_type": "stream",
          "name": "stdout",
          "text": [
            "Enter a number: 24\n",
            "The number is positive.\n"
          ]
        }
      ]
    },
    {
      "cell_type": "code",
      "source": [
        "#12. Write a for loop to print numbers from 1 to 10.\n",
        "\n",
        "for number in range(1, 11):\n",
        "    print(number);"
      ],
      "metadata": {
        "colab": {
          "base_uri": "https://localhost:8080/"
        },
        "id": "NirRL5UnLBaz",
        "outputId": "1d2e850d-a86e-45a0-f4ac-789f1461862b"
      },
      "execution_count": 32,
      "outputs": [
        {
          "output_type": "stream",
          "name": "stdout",
          "text": [
            "1\n",
            "2\n",
            "3\n",
            "4\n",
            "5\n",
            "6\n",
            "7\n",
            "8\n",
            "9\n",
            "10\n"
          ]
        }
      ]
    },
    {
      "cell_type": "code",
      "source": [
        "#13. Write a Python program to find the sum of all even numbers between 1 and 50.\n",
        "\n",
        "sum_of_evens = 0\n",
        "\n",
        "for number in range(1, 51):\n",
        "    if number % 2 == 0:\n",
        "        sum_of_evens += number\n",
        "\n",
        "print(\"The sum of all even numbers between 1 and 50 is:\", sum_of_evens);"
      ],
      "metadata": {
        "colab": {
          "base_uri": "https://localhost:8080/"
        },
        "id": "rZQc5AcxLRlg",
        "outputId": "3267af9c-1c65-49c2-c765-9a6aaf6315ed"
      },
      "execution_count": 33,
      "outputs": [
        {
          "output_type": "stream",
          "name": "stdout",
          "text": [
            "The sum of all even numbers between 1 and 50 is: 650\n"
          ]
        }
      ]
    },
    {
      "cell_type": "code",
      "source": [
        "#14. Write a program to reverse a string using a while loop.\n",
        "\n",
        "def reverse_string(input_string):\n",
        "    reversed_string = \"\"\n",
        "    index = len(input_string) - 1\n",
        "\n",
        "    while index >= 0:\n",
        "        reversed_string += input_string[index]\n",
        "        index -= 1\n",
        "\n",
        "    return reversed_string\n",
        "\n",
        "user_input = input(\"Enter a string to reverse: \")\n",
        "reversed_result = reverse_string(user_input)\n",
        "\n",
        "print(\"Reversed string:\", reversed_result)"
      ],
      "metadata": {
        "colab": {
          "base_uri": "https://localhost:8080/"
        },
        "id": "o2zBF9nLL4pS",
        "outputId": "f91a08f9-0889-49b4-c551-832f012a4bfe"
      },
      "execution_count": 34,
      "outputs": [
        {
          "output_type": "stream",
          "name": "stdout",
          "text": [
            "Enter a string to reverse: Snehashis\n",
            "Reversed string: sihsahenS\n"
          ]
        }
      ]
    },
    {
      "cell_type": "code",
      "source": [
        "#15. Write a Python program to calculate the factorial of a number provided by the user using a while loop.\n",
        "\n",
        "def calculate_factorial(n):\n",
        "    if n < 0:\n",
        "        return \"Factorial is not defined for negative numbers.\"\n",
        "\n",
        "    factorial = 1\n",
        "    count = 1\n",
        "\n",
        "    while count <= n:\n",
        "        factorial *= count\n",
        "        count += 1\n",
        "\n",
        "    return factorial\n",
        "\n",
        "try:\n",
        "    user_input = int(input(\"Enter a number to calculate its factorial: \"))\n",
        "    result = calculate_factorial(user_input)\n",
        "    print(f\"The factorial of {user_input} is: {result}\");\n",
        "except ValueError:\n",
        "    print(\"Invalid input! Please enter a valid integer.\");"
      ],
      "metadata": {
        "colab": {
          "base_uri": "https://localhost:8080/"
        },
        "id": "tRRydMw-MT9U",
        "outputId": "13274566-414d-4574-bf53-0ee24e125e51"
      },
      "execution_count": 35,
      "outputs": [
        {
          "output_type": "stream",
          "name": "stdout",
          "text": [
            "Enter a number to calculate its factorial: 6\n",
            "The factorial of 6 is: 720\n"
          ]
        }
      ]
    }
  ]
}